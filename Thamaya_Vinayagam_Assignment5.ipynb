{
 "cells": [
  {
   "cell_type": "markdown",
   "metadata": {},
   "source": [
    "# Assignment 5. Machine Learning and Natural Language Processing\n",
    "\n",
    "OPIM 5894 Data Science with Python\n",
    "\n",
    "Name: Karpagam Thamaya Vinayagam  NetID: ktv16001\n",
    "\n",
    "Discussed with: Varnika Yertha"
   ]
  },
  {
   "cell_type": "markdown",
   "metadata": {},
   "source": [
    "## Instructions\n",
    "In this assignment, you are asked to predict genders of users using their public information on websites. In question 1, you are asked to predict gender using only usename. In question 2, you are asked to predict gender using the profile description of a user instead. Finally, you may combine all available information of users to make predictions. You may explore different models and different combination of features, as well as different ways to transform features, to achieve best performance. \n",
    "<br> <br>\n",
    "- It is recommended to use NLTK for this classification task, as the features stored in dictionary style can be easily extended. While scikit-learn is easier for Q2, it might not be that straightforward to combine different features in Q3. In addition, dealing with categorical variables can be a pain in scikit-learn. If you plan to use scikit-learn anyway, please read the following post: http://pbpython.com/categorical-encoding.html\n",
    "- While protyping, it is easier to stick to the Naive Bayes Classifier. Adding other classifiers once your code is bug-free.\n",
    "- Use cross validation on the training set to avoid over-fitting, though it is not guaranteed achieve that purpose.\n",
    "\n",
    "\n",
    "<br>\n",
    "This assignment involves the following challenges:\n",
    "- Construct features from strings (i.e., usernames)\n",
    "- Frequent use of zip() and zip(*) (see doc https://docs.python.org/3/library/functions.html)\n",
    "- Parsing a json style column into multiple columns\n",
    "- Merging different features into one feature set\n",
    "- Find appropriate models and features to improve prediction accuracy\n",
    "- Writing and debugging a lot of code\n",
    "<br><br>\n",
    "\n",
    "What to submit?\n",
    "- The predictions of 5 models on the test set (see a sample submission sample_submission.csv). Diverify your portfolio, as similar models may suffer from similar problems.\n",
    "- The notebook file (** please make sure that your code are sufficiently commented**)\n",
    "- In the end of the notebook file, briefly describe what you have done, which models work the best, and what findings you have.\n",
    "<br><br>\n",
    "\n",
    "The top 50% submissions will get 0-3 extra points. Try at least 3 models for each question. Try as many as you want for extra credit.\n",
    "<br><br>\n",
    "** Please do NOT distribute the dataset used in this assignment!**\n"
   ]
  },
  {
   "cell_type": "code",
   "execution_count": 777,
   "metadata": {},
   "outputs": [],
   "source": [
    "import pandas as pd\n",
    "import os\n",
    "os.chdir('C:/Users/Karpagam/Documents/Python Scripts/PythonAssignment')"
   ]
  },
  {
   "cell_type": "code",
   "execution_count": 881,
   "metadata": {},
   "outputs": [
    {
     "data": {
      "text/html": [
       "<div>\n",
       "<style>\n",
       "    .dataframe thead tr:only-child th {\n",
       "        text-align: right;\n",
       "    }\n",
       "\n",
       "    .dataframe thead th {\n",
       "        text-align: left;\n",
       "    }\n",
       "\n",
       "    .dataframe tbody tr th {\n",
       "        vertical-align: top;\n",
       "    }\n",
       "</style>\n",
       "<table border=\"1\" class=\"dataframe\">\n",
       "  <thead>\n",
       "    <tr style=\"text-align: right;\">\n",
       "      <th></th>\n",
       "      <th>username</th>\n",
       "      <th>status</th>\n",
       "      <th>description</th>\n",
       "    </tr>\n",
       "  </thead>\n",
       "  <tbody>\n",
       "    <tr>\n",
       "      <th>0</th>\n",
       "      <td>nazrulmadina</td>\n",
       "      <td>{u'payment_verified': False, u'identity_verifi...</td>\n",
       "      <td>I am one of Self-employed person having more t...</td>\n",
       "    </tr>\n",
       "    <tr>\n",
       "      <th>1</th>\n",
       "      <td>SehrishWarraich</td>\n",
       "      <td>{u'payment_verified': False, u'identity_verifi...</td>\n",
       "      <td>i am sehrish warraich.I do my job sincerelly a...</td>\n",
       "    </tr>\n",
       "    <tr>\n",
       "      <th>2</th>\n",
       "      <td>samadhinie</td>\n",
       "      <td>{u'payment_verified': False, u'identity_verifi...</td>\n",
       "      <td>Since 2006, Web based solution provider (Web e...</td>\n",
       "    </tr>\n",
       "    <tr>\n",
       "      <th>3</th>\n",
       "      <td>ebottabi</td>\n",
       "      <td>{u'payment_verified': False, u'identity_verifi...</td>\n",
       "      <td>Founder of  a geolocation service developed on...</td>\n",
       "    </tr>\n",
       "    <tr>\n",
       "      <th>4</th>\n",
       "      <td>mrjimoy</td>\n",
       "      <td>{u'payment_verified': False, u'identity_verifi...</td>\n",
       "      <td>Me? I am Jimmy, meaning honest, courageous, or...</td>\n",
       "    </tr>\n",
       "  </tbody>\n",
       "</table>\n",
       "</div>"
      ],
      "text/plain": [
       "          username                                             status  \\\n",
       "0     nazrulmadina  {u'payment_verified': False, u'identity_verifi...   \n",
       "1  SehrishWarraich  {u'payment_verified': False, u'identity_verifi...   \n",
       "2       samadhinie  {u'payment_verified': False, u'identity_verifi...   \n",
       "3         ebottabi  {u'payment_verified': False, u'identity_verifi...   \n",
       "4          mrjimoy  {u'payment_verified': False, u'identity_verifi...   \n",
       "\n",
       "                                         description  \n",
       "0  I am one of Self-employed person having more t...  \n",
       "1  i am sehrish warraich.I do my job sincerelly a...  \n",
       "2  Since 2006, Web based solution provider (Web e...  \n",
       "3  Founder of  a geolocation service developed on...  \n",
       "4  Me? I am Jimmy, meaning honest, courageous, or...  "
      ]
     },
     "execution_count": 881,
     "metadata": {},
     "output_type": "execute_result"
    }
   ],
   "source": [
    "train = pd.read_csv('train.csv')\n",
    "test = pd.read_csv('test.csv')\n",
    "\n",
    "\n",
    "test.head()"
   ]
  },
  {
   "cell_type": "markdown",
   "metadata": {},
   "source": [
    "## 1. Predicting Gender with Username\n",
    "Some potential features of usernames: whether it has capital letters, whether it has digits, number of characters, number of vowels, first and last letters, etc. See http://www.nltk.org/book/ch06.html for some related code."
   ]
  },
  {
   "cell_type": "code",
   "execution_count": 801,
   "metadata": {
    "collapsed": true
   },
   "outputs": [],
   "source": [
    "#extracting the gender features from username\n",
    "import re\n",
    "def gender_features2(name):\n",
    "    features = {}\n",
    "    features[\"first_letter\"] = name[0].lower()\n",
    "    features[\"last_letter\"] = name[-1].lower()\n",
    "    features[\"count\"]= len(name)\n",
    "    features[\"ifalphanumeric\"]=name.isalnum()\n",
    "    features[\"hasupper\"]=name.isupper()\n",
    "    vowels = ('a','e','i','o','u','A','E','I','O','U')\n",
    "    if(re.sub('[^A-Za-z0-9]+', '', name)):\n",
    "        features['endswithvowel'] = (re.sub(r'[0-9]+', '', name)).endswith(vowels)\n",
    "  \n",
    "\n",
    "    return features"
   ]
  },
  {
   "cell_type": "code",
   "execution_count": 802,
   "metadata": {},
   "outputs": [],
   "source": [
    "username_list=list(zip(train['username'],train['gender']))"
   ]
  },
  {
   "cell_type": "code",
   "execution_count": 803,
   "metadata": {},
   "outputs": [],
   "source": [
    "#creating the featurelists \n",
    "featuresets = [(gender_features2(n), gender) for (n,gender) in username_list]\n",
    "\n"
   ]
  },
  {
   "cell_type": "code",
   "execution_count": 804,
   "metadata": {},
   "outputs": [
    {
     "name": "stdout",
     "output_type": "stream",
     "text": [
      "accuracy: 0.8144\n",
      "accuracy: 0.8056\n",
      "accuracy: 0.8104\n",
      "accuracy: 0.8248\n",
      "accuracy: 0.7982385908726981\n",
      "CV mean accuracy: 0.810687718175\n"
     ]
    }
   ],
   "source": [
    "#Naive Bayes Classifier model\n",
    "import nltk\n",
    "from sklearn.model_selection import KFold\n",
    "import numpy as np\n",
    "k_fold = KFold(n_splits=5, shuffle=True)\n",
    "accu = []\n",
    "for train_idx, test_idx in k_fold.split(featuresets):\n",
    "    train_1 = [featuresets[i] for i in train_idx]\n",
    "    test_1 = [featuresets[i] for i in test_idx]\n",
    "    classifier_nb = nltk.NaiveBayesClassifier.train(train_1)   \n",
    "    accu.append( nltk.classify.util.accuracy(classifier_nb, test_1) )\n",
    "    print('accuracy:', accu[len(accu)-1])    \n",
    "print('CV mean accuracy:', np.mean(accu))    "
   ]
  },
  {
   "cell_type": "code",
   "execution_count": 811,
   "metadata": {},
   "outputs": [
    {
     "name": "stdout",
     "output_type": "stream",
     "text": [
      "accuracy: 0.8224\n",
      "accuracy: 0.8232\n",
      "accuracy: 0.8088\n",
      "accuracy: 0.8024\n",
      "accuracy: 0.8078462770216173\n",
      "CV mean accuracy: 0.812929255404\n"
     ]
    }
   ],
   "source": [
    "#Linear SVM Classifier model\n",
    "\n",
    "from nltk.classify import SklearnClassifier\n",
    "from sklearn.svm import SVC\n",
    "k_fold = KFold(n_splits=5, shuffle=True)\n",
    "accu = []\n",
    "for train_idx, test_idx in k_fold.split(featuresets):\n",
    "    train1 = [featuresets[i] for i in train_idx]\n",
    "    test1 = [featuresets[i] for i in test_idx]\n",
    "    classifier_sk = SklearnClassifier(SVC(kernel='linear', C=10, random_state=1), sparse=True).train(train1)       \n",
    "    accu.append( nltk.classify.util.accuracy(classifier_sk, test1) )\n",
    "    print('accuracy:', accu[len(accu)-1])    \n",
    "print('CV mean accuracy:', np.mean(accu)) "
   ]
  },
  {
   "cell_type": "code",
   "execution_count": 961,
   "metadata": {},
   "outputs": [
    {
     "name": "stdout",
     "output_type": "stream",
     "text": [
      "  ==> Training (1 iterations)\n",
      "\n",
      "      Iteration    Log Likelihood    Accuracy\n",
      "      ---------------------------------------\n",
      "             1          -0.69315        0.809\n",
      "         Final          -0.36459        0.809\n",
      "accuracy: 0.8304\n",
      "  ==> Training (1 iterations)\n",
      "\n",
      "      Iteration    Log Likelihood    Accuracy\n",
      "      ---------------------------------------\n",
      "             1          -0.69315        0.815\n",
      "         Final          -0.35358        0.815\n",
      "accuracy: 0.8032\n",
      "  ==> Training (1 iterations)\n",
      "\n",
      "      Iteration    Log Likelihood    Accuracy\n",
      "      ---------------------------------------\n",
      "             1          -0.69315        0.816\n",
      "         Final          -0.35122        0.816\n",
      "accuracy: 0.7992\n",
      "  ==> Training (1 iterations)\n",
      "\n",
      "      Iteration    Log Likelihood    Accuracy\n",
      "      ---------------------------------------\n",
      "             1          -0.69315        0.815\n",
      "         Final          -0.35422        0.815\n",
      "accuracy: 0.8064\n",
      "  ==> Training (1 iterations)\n",
      "\n",
      "      Iteration    Log Likelihood    Accuracy\n",
      "      ---------------------------------------\n",
      "             1          -0.69315        0.810\n",
      "         Final          -0.36302        0.810\n",
      "accuracy: 0.8254603682946358\n",
      "CV mean accuracy: 0.812932073659\n"
     ]
    }
   ],
   "source": [
    "#Maximum Entropy classification\n",
    "\n",
    "k_fold = KFold(n_splits=5, shuffle=True)\n",
    "accu = []\n",
    "for train_idx, test_idx in k_fold.split(featuresets):\n",
    "    train_1 = [featuresets[i] for i in train_idx]\n",
    "    test_1 = [featuresets[i] for i in test_idx]\n",
    "    classifier_me = nltk.classify.MaxentClassifier.train(train_1, trace=3, max_iter=1)       \n",
    "    accu.append( nltk.classify.util.accuracy(classifier_me, test_1) )\n",
    "    print('accuracy:', accu[len(accu)-1])    \n",
    "print('CV mean accuracy:', np.mean(accu)) "
   ]
  },
  {
   "cell_type": "code",
   "execution_count": 842,
   "metadata": {},
   "outputs": [
    {
     "name": "stdout",
     "output_type": "stream",
     "text": [
      "Most Informative Features\n",
      "            first_letter = 'q'                 F : M      =      3.6 : 1.0\n",
      "                   count = 3                   F : M      =      2.5 : 1.0\n",
      "             last_letter = 'd'                 M : F      =      2.3 : 1.0\n",
      "            first_letter = 'l'                 F : M      =      2.1 : 1.0\n",
      "             last_letter = 'v'                 M : F      =      2.0 : 1.0\n",
      "             last_letter = 'm'                 M : F      =      2.0 : 1.0\n",
      "             last_letter = 'x'                 M : F      =      1.9 : 1.0\n",
      "             last_letter = 'a'                 F : M      =      1.8 : 1.0\n",
      "            first_letter = 'c'                 F : M      =      1.8 : 1.0\n",
      "            first_letter = 'f'                 M : F      =      1.7 : 1.0\n",
      "             last_letter = 'h'                 M : F      =      1.6 : 1.0\n",
      "            first_letter = 'v'                 M : F      =      1.6 : 1.0\n",
      "            first_letter = 'u'                 M : F      =      1.5 : 1.0\n",
      "            first_letter = 'j'                 F : M      =      1.5 : 1.0\n",
      "            first_letter = 't'                 F : M      =      1.5 : 1.0\n",
      "           endswithvowel = True                F : M      =      1.5 : 1.0\n",
      "            first_letter = 'z'                 M : F      =      1.5 : 1.0\n",
      "            first_letter = 'h'                 M : F      =      1.4 : 1.0\n",
      "            first_letter = 'd'                 M : F      =      1.4 : 1.0\n",
      "             last_letter = '7'                 M : F      =      1.4 : 1.0\n"
     ]
    }
   ],
   "source": [
    "#Getting the most important features from Naive Bayes classifier \n",
    "\n",
    "classifier_nb.show_most_informative_features(20)"
   ]
  },
  {
   "cell_type": "code",
   "execution_count": 807,
   "metadata": {},
   "outputs": [
    {
     "data": {
      "text/plain": [
       "0.8094"
      ]
     },
     "execution_count": 807,
     "metadata": {},
     "output_type": "execute_result"
    }
   ],
   "source": [
    "nltk.classify.util.accuracy(classifier_nb, train1)"
   ]
  },
  {
   "cell_type": "code",
   "execution_count": 818,
   "metadata": {},
   "outputs": [
    {
     "data": {
      "text/plain": [
       "0.8142"
      ]
     },
     "execution_count": 818,
     "metadata": {},
     "output_type": "execute_result"
    }
   ],
   "source": [
    "nltk.classify.util.accuracy(classifier_sk, train1)"
   ]
  },
  {
   "cell_type": "code",
   "execution_count": 962,
   "metadata": {},
   "outputs": [
    {
     "data": {
      "text/plain": [
       "0.8142"
      ]
     },
     "execution_count": 962,
     "metadata": {},
     "output_type": "execute_result"
    }
   ],
   "source": [
    "nltk.classify.util.accuracy(classifier_me,train1)"
   ]
  },
  {
   "cell_type": "code",
   "execution_count": 966,
   "metadata": {},
   "outputs": [],
   "source": [
    "pred_uname = []\n",
    "for i in range(0,len(test)):\n",
    "    res=(classifier_nb.classify(gender_features2(test['username'][i])))\n",
    "    pred_uname.append(res)"
   ]
  },
  {
   "cell_type": "code",
   "execution_count": 967,
   "metadata": {},
   "outputs": [],
   "source": [
    "# support your predictions are stored in a list named pred_uname\n",
    "zz = pd.DataFrame({'username':test['username'], 'prediction':pred_uname})\n",
    "zz.to_csv('pred_uname.csv', index=False)"
   ]
  },
  {
   "cell_type": "markdown",
   "metadata": {},
   "source": [
    "## 2. Predicting Gender with Description\n",
    "The updated notebook for lecture 11 might be of some help, which now includes demo code for making predictions with NLTK classifier."
   ]
  },
  {
   "cell_type": "code",
   "execution_count": 789,
   "metadata": {
    "collapsed": true
   },
   "outputs": [],
   "source": [
    "from nltk.corpus import stopwords\n",
    "from nltk.stem import PorterStemmer\n",
    "import string\n",
    "ps = PorterStemmer()\n",
    "from nltk.tokenize import word_tokenize\n",
    "def preprocess(text):\n",
    "    return [ps.stem(w) for w in word_tokenize(text.lower()) \n",
    "             if w not in string.punctuation and w not in stopwords.words('english')] "
   ]
  },
  {
   "cell_type": "code",
   "execution_count": 819,
   "metadata": {
    "collapsed": true
   },
   "outputs": [],
   "source": [
    "def extract_features(words, selected_words):\n",
    "    ''' simply using words counts'''\n",
    "    return nltk.FreqDist([w for w in words if w in selected_words])"
   ]
  },
  {
   "cell_type": "code",
   "execution_count": 820,
   "metadata": {},
   "outputs": [
    {
     "data": {
      "text/html": [
       "<div>\n",
       "<style>\n",
       "    .dataframe thead tr:only-child th {\n",
       "        text-align: right;\n",
       "    }\n",
       "\n",
       "    .dataframe thead th {\n",
       "        text-align: left;\n",
       "    }\n",
       "\n",
       "    .dataframe tbody tr th {\n",
       "        vertical-align: top;\n",
       "    }\n",
       "</style>\n",
       "<table border=\"1\" class=\"dataframe\">\n",
       "  <thead>\n",
       "    <tr style=\"text-align: right;\">\n",
       "      <th></th>\n",
       "      <th>username</th>\n",
       "      <th>gender</th>\n",
       "      <th>status</th>\n",
       "      <th>description</th>\n",
       "    </tr>\n",
       "  </thead>\n",
       "  <tbody>\n",
       "    <tr>\n",
       "      <th>0</th>\n",
       "      <td>Vimal20011</td>\n",
       "      <td>M</td>\n",
       "      <td>{u'payment_verified': False, u'identity_verifi...</td>\n",
       "      <td>A team of 5 working on various projects relate...</td>\n",
       "    </tr>\n",
       "    <tr>\n",
       "      <th>1</th>\n",
       "      <td>sheom</td>\n",
       "      <td>M</td>\n",
       "      <td>{u'payment_verified': True, u'identity_verifie...</td>\n",
       "      <td>We are an IT solution and service provider com...</td>\n",
       "    </tr>\n",
       "    <tr>\n",
       "      <th>2</th>\n",
       "      <td>ezbik</td>\n",
       "      <td>M</td>\n",
       "      <td>{u'payment_verified': False, u'identity_verifi...</td>\n",
       "      <td>System administration is my work &amp; hobby.</td>\n",
       "    </tr>\n",
       "    <tr>\n",
       "      <th>3</th>\n",
       "      <td>angelme</td>\n",
       "      <td>F</td>\n",
       "      <td>{u'payment_verified': False, u'identity_verifi...</td>\n",
       "      <td>Good day! Thank you for taking some time to ch...</td>\n",
       "    </tr>\n",
       "    <tr>\n",
       "      <th>4</th>\n",
       "      <td>snitch1</td>\n",
       "      <td>M</td>\n",
       "      <td>{u'payment_verified': False, u'identity_verifi...</td>\n",
       "      <td>I build good relation with clients and deliver...</td>\n",
       "    </tr>\n",
       "  </tbody>\n",
       "</table>\n",
       "</div>"
      ],
      "text/plain": [
       "     username gender                                             status  \\\n",
       "0  Vimal20011      M  {u'payment_verified': False, u'identity_verifi...   \n",
       "1       sheom      M  {u'payment_verified': True, u'identity_verifie...   \n",
       "2       ezbik      M  {u'payment_verified': False, u'identity_verifi...   \n",
       "3     angelme      F  {u'payment_verified': False, u'identity_verifi...   \n",
       "4     snitch1      M  {u'payment_verified': False, u'identity_verifi...   \n",
       "\n",
       "                                         description  \n",
       "0  A team of 5 working on various projects relate...  \n",
       "1  We are an IT solution and service provider com...  \n",
       "2          System administration is my work & hobby.  \n",
       "3  Good day! Thank you for taking some time to ch...  \n",
       "4  I build good relation with clients and deliver...  "
      ]
     },
     "execution_count": 820,
     "metadata": {},
     "output_type": "execute_result"
    }
   ],
   "source": [
    "train.head()"
   ]
  },
  {
   "cell_type": "code",
   "execution_count": 821,
   "metadata": {
    "collapsed": true
   },
   "outputs": [],
   "source": [
    "all_words=[]\n",
    "for i in range(0,len(train)):\n",
    "    result= preprocess(train.description[i])\n",
    "    all_words.append(result)\n"
   ]
  },
  {
   "cell_type": "code",
   "execution_count": 822,
   "metadata": {
    "collapsed": true
   },
   "outputs": [],
   "source": [
    "import itertools\n",
    "all_words_list= list(itertools.chain.from_iterable(all_words))"
   ]
  },
  {
   "cell_type": "code",
   "execution_count": 823,
   "metadata": {},
   "outputs": [
    {
     "data": {
      "text/html": [
       "<div>\n",
       "<style>\n",
       "    .dataframe thead tr:only-child th {\n",
       "        text-align: right;\n",
       "    }\n",
       "\n",
       "    .dataframe thead th {\n",
       "        text-align: left;\n",
       "    }\n",
       "\n",
       "    .dataframe tbody tr th {\n",
       "        vertical-align: top;\n",
       "    }\n",
       "</style>\n",
       "<table border=\"1\" class=\"dataframe\">\n",
       "  <thead>\n",
       "    <tr style=\"text-align: right;\">\n",
       "      <th></th>\n",
       "      <th>0</th>\n",
       "      <th>1</th>\n",
       "    </tr>\n",
       "  </thead>\n",
       "  <tbody>\n",
       "    <tr>\n",
       "      <th>0</th>\n",
       "      <td>[team, 5, work, variou, project, relat, data, ...</td>\n",
       "      <td>M</td>\n",
       "    </tr>\n",
       "    <tr>\n",
       "      <th>1</th>\n",
       "      <td>[solut, servic, provid, compani, expertis, e-l...</td>\n",
       "      <td>M</td>\n",
       "    </tr>\n",
       "    <tr>\n",
       "      <th>2</th>\n",
       "      <td>[system, administr, work, hobbi]</td>\n",
       "      <td>M</td>\n",
       "    </tr>\n",
       "    <tr>\n",
       "      <th>3</th>\n",
       "      <td>[good, day, thank, take, time, check, profil, ...</td>\n",
       "      <td>F</td>\n",
       "    </tr>\n",
       "    <tr>\n",
       "      <th>4</th>\n",
       "      <td>[build, good, relat, client, deliv, high, qual...</td>\n",
       "      <td>M</td>\n",
       "    </tr>\n",
       "  </tbody>\n",
       "</table>\n",
       "</div>"
      ],
      "text/plain": [
       "                                                   0  1\n",
       "0  [team, 5, work, variou, project, relat, data, ...  M\n",
       "1  [solut, servic, provid, compani, expertis, e-l...  M\n",
       "2                   [system, administr, work, hobbi]  M\n",
       "3  [good, day, thank, take, time, check, profil, ...  F\n",
       "4  [build, good, relat, client, deliv, high, qual...  M"
      ]
     },
     "execution_count": 823,
     "metadata": {},
     "output_type": "execute_result"
    }
   ],
   "source": [
    "desc_words= list(zip(all_words,train.gender))\n",
    "\n",
    "desc_df=pd.DataFrame(desc_words)\n",
    "desc_df.head()"
   ]
  },
  {
   "cell_type": "code",
   "execution_count": 875,
   "metadata": {},
   "outputs": [
    {
     "data": {
      "text/plain": [
       "(['solut',\n",
       "  'servic',\n",
       "  'provid',\n",
       "  'compani',\n",
       "  'expertis',\n",
       "  'e-learn',\n",
       "  'social',\n",
       "  'media',\n",
       "  'marketing.pleas',\n",
       "  'visit',\n",
       "  'compani',\n",
       "  'url',\n",
       "  'know'],\n",
       " 'M')"
      ]
     },
     "execution_count": 875,
     "metadata": {},
     "output_type": "execute_result"
    }
   ],
   "source": [
    "desc_words[1]"
   ]
  },
  {
   "cell_type": "code",
   "execution_count": 824,
   "metadata": {},
   "outputs": [
    {
     "data": {
      "text/plain": [
       "798"
      ]
     },
     "execution_count": 824,
     "metadata": {},
     "output_type": "execute_result"
    }
   ],
   "source": [
    "words_freq = nltk.FreqDist(all_words_list)\n",
    "words_freq['team']"
   ]
  },
  {
   "cell_type": "code",
   "execution_count": 825,
   "metadata": {},
   "outputs": [
    {
     "name": "stdout",
     "output_type": "stream",
     "text": [
      "Before: 36128 , after: 9953\n"
     ]
    }
   ],
   "source": [
    "selected_words = [word for word, freq in words_freq.items() if freq>1]\n",
    "print('Before:',len(words_freq), ', after:', len(selected_words))"
   ]
  },
  {
   "cell_type": "code",
   "execution_count": 879,
   "metadata": {},
   "outputs": [
    {
     "data": {
      "text/plain": [
       "'5'"
      ]
     },
     "execution_count": 879,
     "metadata": {},
     "output_type": "execute_result"
    }
   ],
   "source": [
    "selected_words[1]"
   ]
  },
  {
   "cell_type": "code",
   "execution_count": 826,
   "metadata": {},
   "outputs": [
    {
     "data": {
      "text/plain": [
       "(FreqDist({'hard': 1,\n",
       "           'honest': 1,\n",
       "           'laxmi': 1,\n",
       "           'name': 2,\n",
       "           'road': 1,\n",
       "           'sharma': 1,\n",
       "           'sumit': 1,\n",
       "           'us': 1,\n",
       "           'worker': 1}),\n",
       " 'M')"
      ]
     },
     "execution_count": 826,
     "metadata": {},
     "output_type": "execute_result"
    }
   ],
   "source": [
    "feat = [(extract_features(words,selected_words), c) for words, c in desc_words]\n",
    "feat[25]"
   ]
  },
  {
   "cell_type": "markdown",
   "metadata": {},
   "source": [
    "# Cross-Validation Naive Bayes Classifier"
   ]
  },
  {
   "cell_type": "code",
   "execution_count": 952,
   "metadata": {},
   "outputs": [
    {
     "name": "stdout",
     "output_type": "stream",
     "text": [
      "accuracy: 0.5512\n",
      "accuracy: 0.5528\n",
      "accuracy: 0.596\n",
      "accuracy: 0.548\n",
      "accuracy: 0.5612489991993594\n",
      "CV mean accuracy: 0.56184979984\n"
     ]
    }
   ],
   "source": [
    "\n",
    "from sklearn.model_selection import KFold\n",
    "import numpy as np\n",
    "k_fold = KFold(n_splits=5, shuffle=True)\n",
    "accu = []\n",
    "for train_idx, test_idx in k_fold.split(feat):\n",
    "    train_2 = [feat[i] for i in train_idx]\n",
    "    test_2 = [feat[i] for i in test_idx]\n",
    "    classifier2_nb = nltk.NaiveBayesClassifier.train(train_2)   \n",
    "    accu.append( nltk.classify.util.accuracy(classifier2_nb, test_2) )\n",
    "    print('accuracy:', accu[len(accu)-1])    \n",
    "print('CV mean accuracy:', np.mean(accu))    "
   ]
  },
  {
   "cell_type": "markdown",
   "metadata": {},
   "source": [
    "# Classifiers from scikit learn"
   ]
  },
  {
   "cell_type": "code",
   "execution_count": 843,
   "metadata": {},
   "outputs": [
    {
     "name": "stdout",
     "output_type": "stream",
     "text": [
      "accuracy: 0.7432\n",
      "accuracy: 0.7352\n",
      "accuracy: 0.7352\n",
      "accuracy: 0.7512\n",
      "accuracy: 0.7349879903923139\n",
      "CV mean accuracy: 0.739957598078\n"
     ]
    }
   ],
   "source": [
    "\n",
    "from nltk.classify import SklearnClassifier\n",
    "from sklearn.svm import SVC\n",
    "k_fold = KFold(n_splits=5, shuffle=True)\n",
    "accu = []\n",
    "for train_idx, test_idx in k_fold.split(feat):\n",
    "    train_2 = [feat[i] for i in train_idx]\n",
    "    test_2 = [feat[i] for i in test_idx]\n",
    "    classifier2_sk = SklearnClassifier(SVC(kernel='linear', C=10, random_state=1), sparse=True).train(train_2)       \n",
    "    accu.append( nltk.classify.util.accuracy(classifier2_sk, test_2) )\n",
    "    print('accuracy:', accu[len(accu)-1])    \n",
    "print('CV mean accuracy:', np.mean(accu)) "
   ]
  },
  {
   "cell_type": "markdown",
   "metadata": {},
   "source": [
    "# Maximum Entropy Classifier"
   ]
  },
  {
   "cell_type": "code",
   "execution_count": 827,
   "metadata": {},
   "outputs": [
    {
     "name": "stdout",
     "output_type": "stream",
     "text": [
      "  ==> Training (1 iterations)\n",
      "\n",
      "      Iteration    Log Likelihood    Accuracy\n",
      "      ---------------------------------------\n",
      "             1          -0.69315        0.816\n",
      "         Final          -0.38001        0.808\n",
      "accuracy: 0.7776\n",
      "  ==> Training (1 iterations)\n",
      "\n",
      "      Iteration    Log Likelihood    Accuracy\n",
      "      ---------------------------------------\n",
      "             1          -0.69315        0.813\n",
      "         Final          -0.37663        0.801\n",
      "accuracy: 0.7984\n",
      "  ==> Training (1 iterations)\n",
      "\n",
      "      Iteration    Log Likelihood    Accuracy\n",
      "      ---------------------------------------\n",
      "             1          -0.69315        0.811\n",
      "         Final          -0.34920        0.806\n",
      "accuracy: 0.8176\n",
      "  ==> Training (1 iterations)\n",
      "\n",
      "      Iteration    Log Likelihood    Accuracy\n",
      "      ---------------------------------------\n",
      "             1          -0.69315        0.813\n",
      "         Final          -0.35734        0.802\n",
      "accuracy: 0.8032\n",
      "  ==> Training (1 iterations)\n",
      "\n",
      "      Iteration    Log Likelihood    Accuracy\n",
      "      ---------------------------------------\n",
      "             1          -0.69315        0.811\n",
      "         Final          -0.39038        0.798\n",
      "accuracy: 0.8062449959967974\n",
      "CV mean accuracy: 0.800608999199\n"
     ]
    }
   ],
   "source": [
    "k_fold = KFold(n_splits=5, shuffle=True)\n",
    "accu = []\n",
    "for train_idx, test_idx in k_fold.split(feat):\n",
    "    train_2 = [feat[i] for i in train_idx]\n",
    "    test_2 = [feat[i] for i in test_idx]\n",
    "    classifier2_me = nltk.classify.MaxentClassifier.train(train_2, trace=3, max_iter=1)       \n",
    "    accu.append( nltk.classify.util.accuracy(classifier2_me, test_2) )\n",
    "    print('accuracy:', accu[len(accu)-1])    \n",
    "print('CV mean accuracy:', np.mean(accu)) "
   ]
  },
  {
   "cell_type": "markdown",
   "metadata": {},
   "source": [
    "# Gender Prediction with description - test data\n"
   ]
  },
  {
   "cell_type": "code",
   "execution_count": 852,
   "metadata": {},
   "outputs": [],
   "source": [
    "all_words_test=[]\n",
    "for i in range(0,len(test)):\n",
    "    result= preprocess(test.description[i])\n",
    "    all_words_test.append(result)\n",
    "\n"
   ]
  },
  {
   "cell_type": "code",
   "execution_count": 853,
   "metadata": {
    "collapsed": true
   },
   "outputs": [],
   "source": [
    "import itertools\n",
    "all_words_list_test= list(itertools.chain.from_iterable(all_words_test))"
   ]
  },
  {
   "cell_type": "code",
   "execution_count": 889,
   "metadata": {},
   "outputs": [
    {
     "data": {
      "text/plain": [
       "['sehrish',\n",
       " 'warraich.i',\n",
       " 'job',\n",
       " 'sincerelli',\n",
       " 'submit',\n",
       " 'mission',\n",
       " 'better',\n",
       " 'better',\n",
       " 'next',\n",
       " 'time',\n",
       " 'previou',\n",
       " 'one.i',\n",
       " 'experienc',\n",
       " 'data',\n",
       " 'entri',\n",
       " 'job',\n",
       " 'perfectly..']"
      ]
     },
     "execution_count": 889,
     "metadata": {},
     "output_type": "execute_result"
    }
   ],
   "source": [
    "desc_words_test= list(all_words_test)\n",
    "\n",
    "desc_words_test[1]"
   ]
  },
  {
   "cell_type": "code",
   "execution_count": 890,
   "metadata": {},
   "outputs": [
    {
     "data": {
      "text/html": [
       "<div>\n",
       "<style>\n",
       "    .dataframe thead tr:only-child th {\n",
       "        text-align: right;\n",
       "    }\n",
       "\n",
       "    .dataframe thead th {\n",
       "        text-align: left;\n",
       "    }\n",
       "\n",
       "    .dataframe tbody tr th {\n",
       "        vertical-align: top;\n",
       "    }\n",
       "</style>\n",
       "<table border=\"1\" class=\"dataframe\">\n",
       "  <thead>\n",
       "    <tr style=\"text-align: right;\">\n",
       "      <th></th>\n",
       "      <th>0</th>\n",
       "      <th>1</th>\n",
       "      <th>2</th>\n",
       "      <th>3</th>\n",
       "      <th>4</th>\n",
       "      <th>5</th>\n",
       "      <th>6</th>\n",
       "      <th>7</th>\n",
       "      <th>8</th>\n",
       "      <th>9</th>\n",
       "      <th>...</th>\n",
       "      <th>1491</th>\n",
       "      <th>1492</th>\n",
       "      <th>1493</th>\n",
       "      <th>1494</th>\n",
       "      <th>1495</th>\n",
       "      <th>1496</th>\n",
       "      <th>1497</th>\n",
       "      <th>1498</th>\n",
       "      <th>1499</th>\n",
       "      <th>1500</th>\n",
       "    </tr>\n",
       "  </thead>\n",
       "  <tbody>\n",
       "    <tr>\n",
       "      <th>0</th>\n",
       "      <td>one</td>\n",
       "      <td>self-employ</td>\n",
       "      <td>person</td>\n",
       "      <td>16</td>\n",
       "      <td>year</td>\n",
       "      <td>experi</td>\n",
       "      <td>comput</td>\n",
       "      <td>comput</td>\n",
       "      <td>program</td>\n",
       "      <td>softwar</td>\n",
       "      <td>...</td>\n",
       "      <td>None</td>\n",
       "      <td>None</td>\n",
       "      <td>None</td>\n",
       "      <td>None</td>\n",
       "      <td>None</td>\n",
       "      <td>None</td>\n",
       "      <td>None</td>\n",
       "      <td>None</td>\n",
       "      <td>None</td>\n",
       "      <td>None</td>\n",
       "    </tr>\n",
       "    <tr>\n",
       "      <th>1</th>\n",
       "      <td>sehrish</td>\n",
       "      <td>warraich.i</td>\n",
       "      <td>job</td>\n",
       "      <td>sincerelli</td>\n",
       "      <td>submit</td>\n",
       "      <td>mission</td>\n",
       "      <td>better</td>\n",
       "      <td>better</td>\n",
       "      <td>next</td>\n",
       "      <td>time</td>\n",
       "      <td>...</td>\n",
       "      <td>None</td>\n",
       "      <td>None</td>\n",
       "      <td>None</td>\n",
       "      <td>None</td>\n",
       "      <td>None</td>\n",
       "      <td>None</td>\n",
       "      <td>None</td>\n",
       "      <td>None</td>\n",
       "      <td>None</td>\n",
       "      <td>None</td>\n",
       "    </tr>\n",
       "    <tr>\n",
       "      <th>2</th>\n",
       "      <td>sinc</td>\n",
       "      <td>2006</td>\n",
       "      <td>web</td>\n",
       "      <td>base</td>\n",
       "      <td>solut</td>\n",
       "      <td>provid</td>\n",
       "      <td>web</td>\n",
       "      <td>engin</td>\n",
       "      <td>experienc</td>\n",
       "      <td>area</td>\n",
       "      <td>...</td>\n",
       "      <td>None</td>\n",
       "      <td>None</td>\n",
       "      <td>None</td>\n",
       "      <td>None</td>\n",
       "      <td>None</td>\n",
       "      <td>None</td>\n",
       "      <td>None</td>\n",
       "      <td>None</td>\n",
       "      <td>None</td>\n",
       "      <td>None</td>\n",
       "    </tr>\n",
       "    <tr>\n",
       "      <th>3</th>\n",
       "      <td>founder</td>\n",
       "      <td>geoloc</td>\n",
       "      <td>servic</td>\n",
       "      <td>develop</td>\n",
       "      <td>redi</td>\n",
       "      <td>django</td>\n",
       "      <td>restmq</td>\n",
       "      <td>node.j</td>\n",
       "      <td>None</td>\n",
       "      <td>None</td>\n",
       "      <td>...</td>\n",
       "      <td>None</td>\n",
       "      <td>None</td>\n",
       "      <td>None</td>\n",
       "      <td>None</td>\n",
       "      <td>None</td>\n",
       "      <td>None</td>\n",
       "      <td>None</td>\n",
       "      <td>None</td>\n",
       "      <td>None</td>\n",
       "      <td>None</td>\n",
       "    </tr>\n",
       "    <tr>\n",
       "      <th>4</th>\n",
       "      <td>jimmi</td>\n",
       "      <td>mean</td>\n",
       "      <td>honest</td>\n",
       "      <td>courag</td>\n",
       "      <td>origin</td>\n",
       "      <td>full</td>\n",
       "      <td>high</td>\n",
       "      <td>inspir</td>\n",
       "      <td>creativ</td>\n",
       "      <td>take</td>\n",
       "      <td>...</td>\n",
       "      <td>None</td>\n",
       "      <td>None</td>\n",
       "      <td>None</td>\n",
       "      <td>None</td>\n",
       "      <td>None</td>\n",
       "      <td>None</td>\n",
       "      <td>None</td>\n",
       "      <td>None</td>\n",
       "      <td>None</td>\n",
       "      <td>None</td>\n",
       "    </tr>\n",
       "  </tbody>\n",
       "</table>\n",
       "<p>5 rows × 1501 columns</p>\n",
       "</div>"
      ],
      "text/plain": [
       "      0            1       2           3       4        5       6       7     \\\n",
       "0      one  self-employ  person          16    year   experi  comput  comput   \n",
       "1  sehrish   warraich.i     job  sincerelli  submit  mission  better  better   \n",
       "2     sinc         2006     web        base   solut   provid     web   engin   \n",
       "3  founder       geoloc  servic     develop    redi   django  restmq  node.j   \n",
       "4    jimmi         mean  honest      courag  origin     full    high  inspir   \n",
       "\n",
       "        8        9     ...   1491  1492  1493  1494  1495  1496  1497  1498  \\\n",
       "0    program  softwar  ...   None  None  None  None  None  None  None  None   \n",
       "1       next     time  ...   None  None  None  None  None  None  None  None   \n",
       "2  experienc     area  ...   None  None  None  None  None  None  None  None   \n",
       "3       None     None  ...   None  None  None  None  None  None  None  None   \n",
       "4    creativ     take  ...   None  None  None  None  None  None  None  None   \n",
       "\n",
       "   1499  1500  \n",
       "0  None  None  \n",
       "1  None  None  \n",
       "2  None  None  \n",
       "3  None  None  \n",
       "4  None  None  \n",
       "\n",
       "[5 rows x 1501 columns]"
      ]
     },
     "execution_count": 890,
     "metadata": {},
     "output_type": "execute_result"
    }
   ],
   "source": [
    "desc_test_df=pd.DataFrame(desc_words_test)\n",
    "desc_test_df.head()"
   ]
  },
  {
   "cell_type": "code",
   "execution_count": 891,
   "metadata": {
    "collapsed": true
   },
   "outputs": [],
   "source": [
    "\n",
    "words_freq_test = nltk.FreqDist(all_words_list_test)"
   ]
  },
  {
   "cell_type": "code",
   "execution_count": 892,
   "metadata": {},
   "outputs": [
    {
     "name": "stdout",
     "output_type": "stream",
     "text": [
      "Before: 20142 , after: 5820\n"
     ]
    },
    {
     "data": {
      "text/plain": [
       "'self-employ'"
      ]
     },
     "execution_count": 892,
     "metadata": {},
     "output_type": "execute_result"
    }
   ],
   "source": [
    "selected_words_test = [word for word, freq in words_freq_test.items() if freq>1]\n",
    "print('Before:',len(words_freq_test), ', after:', len(selected_words_test))\n",
    "\n",
    "\n",
    "selected_words_test[1]"
   ]
  },
  {
   "cell_type": "code",
   "execution_count": 965,
   "metadata": {},
   "outputs": [
    {
     "data": {
      "text/plain": [
       "FreqDist({'better': 2,\n",
       "          'data': 1,\n",
       "          'entri': 1,\n",
       "          'experienc': 1,\n",
       "          'job': 2,\n",
       "          'mission': 1,\n",
       "          'next': 1,\n",
       "          'one.i': 1,\n",
       "          'previou': 1,\n",
       "          'submit': 1,\n",
       "          'time': 1})"
      ]
     },
     "execution_count": 965,
     "metadata": {},
     "output_type": "execute_result"
    }
   ],
   "source": [
    "feat_test = [(extract_features(words1,selected_words_test)) for words1 in desc_words_test]\n",
    "feat_test[1]\n"
   ]
  },
  {
   "cell_type": "code",
   "execution_count": 894,
   "metadata": {
    "collapsed": true
   },
   "outputs": [],
   "source": [
    "pred1 = [classifier2_sk.classify(row) for row in feat_test]\n"
   ]
  },
  {
   "cell_type": "code",
   "execution_count": 898,
   "metadata": {
    "collapsed": true
   },
   "outputs": [],
   "source": [
    "pred2=[classifier2_me.classify(row) for row in feat_test]"
   ]
  },
  {
   "cell_type": "code",
   "execution_count": 900,
   "metadata": {
    "collapsed": true
   },
   "outputs": [],
   "source": [
    "zz1 = pd.DataFrame({'username':test['username'], 'prediction':pred1})\n",
    "zz1.to_csv('pred1_uname.csv', index=False)"
   ]
  },
  {
   "cell_type": "code",
   "execution_count": 901,
   "metadata": {
    "collapsed": true
   },
   "outputs": [],
   "source": [
    "zz2 = pd.DataFrame({'username':test['username'], 'prediction':pred2})\n",
    "zz2.to_csv('pred2_uname.csv', index=False)"
   ]
  },
  {
   "cell_type": "markdown",
   "metadata": {},
   "source": [
    "## 3. Predicting Gender with Username, Description, and Status\n",
    "If you need to merge multiple dict-format features into one, check the following question: https://stackoverflow.com/questions/38987/how-to-merge-two-dictionaries-in-a-single-expression"
   ]
  },
  {
   "cell_type": "code",
   "execution_count": 882,
   "metadata": {},
   "outputs": [],
   "source": [
    "train = pd.read_csv('train.csv')\n",
    "\n",
    "# Parse Json format status as dictionary\n",
    "from ast import literal_eval\n",
    "#status = train['status'].apply(literal_eval)"
   ]
  },
  {
   "cell_type": "code",
   "execution_count": 883,
   "metadata": {},
   "outputs": [
    {
     "data": {
      "text/html": [
       "<div>\n",
       "<style>\n",
       "    .dataframe thead tr:only-child th {\n",
       "        text-align: right;\n",
       "    }\n",
       "\n",
       "    .dataframe thead th {\n",
       "        text-align: left;\n",
       "    }\n",
       "\n",
       "    .dataframe tbody tr th {\n",
       "        vertical-align: top;\n",
       "    }\n",
       "</style>\n",
       "<table border=\"1\" class=\"dataframe\">\n",
       "  <thead>\n",
       "    <tr style=\"text-align: right;\">\n",
       "      <th></th>\n",
       "      <th>username</th>\n",
       "      <th>gender</th>\n",
       "      <th>status</th>\n",
       "      <th>description</th>\n",
       "    </tr>\n",
       "  </thead>\n",
       "  <tbody>\n",
       "    <tr>\n",
       "      <th>0</th>\n",
       "      <td>Vimal20011</td>\n",
       "      <td>M</td>\n",
       "      <td>{u'payment_verified': False, u'identity_verifi...</td>\n",
       "      <td>A team of 5 working on various projects relate...</td>\n",
       "    </tr>\n",
       "    <tr>\n",
       "      <th>1</th>\n",
       "      <td>sheom</td>\n",
       "      <td>M</td>\n",
       "      <td>{u'payment_verified': True, u'identity_verifie...</td>\n",
       "      <td>We are an IT solution and service provider com...</td>\n",
       "    </tr>\n",
       "    <tr>\n",
       "      <th>2</th>\n",
       "      <td>ezbik</td>\n",
       "      <td>M</td>\n",
       "      <td>{u'payment_verified': False, u'identity_verifi...</td>\n",
       "      <td>System administration is my work &amp; hobby.</td>\n",
       "    </tr>\n",
       "    <tr>\n",
       "      <th>3</th>\n",
       "      <td>angelme</td>\n",
       "      <td>F</td>\n",
       "      <td>{u'payment_verified': False, u'identity_verifi...</td>\n",
       "      <td>Good day! Thank you for taking some time to ch...</td>\n",
       "    </tr>\n",
       "    <tr>\n",
       "      <th>4</th>\n",
       "      <td>snitch1</td>\n",
       "      <td>M</td>\n",
       "      <td>{u'payment_verified': False, u'identity_verifi...</td>\n",
       "      <td>I build good relation with clients and deliver...</td>\n",
       "    </tr>\n",
       "  </tbody>\n",
       "</table>\n",
       "</div>"
      ],
      "text/plain": [
       "     username gender                                             status  \\\n",
       "0  Vimal20011      M  {u'payment_verified': False, u'identity_verifi...   \n",
       "1       sheom      M  {u'payment_verified': True, u'identity_verifie...   \n",
       "2       ezbik      M  {u'payment_verified': False, u'identity_verifi...   \n",
       "3     angelme      F  {u'payment_verified': False, u'identity_verifi...   \n",
       "4     snitch1      M  {u'payment_verified': False, u'identity_verifi...   \n",
       "\n",
       "                                         description  \n",
       "0  A team of 5 working on various projects relate...  \n",
       "1  We are an IT solution and service provider com...  \n",
       "2          System administration is my work & hobby.  \n",
       "3  Good day! Thank you for taking some time to ch...  \n",
       "4  I build good relation with clients and deliver...  "
      ]
     },
     "execution_count": 883,
     "metadata": {},
     "output_type": "execute_result"
    }
   ],
   "source": [
    "train.head()"
   ]
  },
  {
   "cell_type": "code",
   "execution_count": 884,
   "metadata": {},
   "outputs": [
    {
     "data": {
      "text/html": [
       "<div>\n",
       "<style>\n",
       "    .dataframe thead tr:only-child th {\n",
       "        text-align: right;\n",
       "    }\n",
       "\n",
       "    .dataframe thead th {\n",
       "        text-align: left;\n",
       "    }\n",
       "\n",
       "    .dataframe tbody tr th {\n",
       "        vertical-align: top;\n",
       "    }\n",
       "</style>\n",
       "<table border=\"1\" class=\"dataframe\">\n",
       "  <thead>\n",
       "    <tr style=\"text-align: right;\">\n",
       "      <th></th>\n",
       "      <th>username</th>\n",
       "      <th>gender</th>\n",
       "      <th>status</th>\n",
       "      <th>description</th>\n",
       "    </tr>\n",
       "  </thead>\n",
       "  <tbody>\n",
       "    <tr>\n",
       "      <th>0</th>\n",
       "      <td>Vimal20011</td>\n",
       "      <td>M</td>\n",
       "      <td>{'payment_verified': False, 'identity_verified...</td>\n",
       "      <td>A team of 5 working on various projects relate...</td>\n",
       "    </tr>\n",
       "    <tr>\n",
       "      <th>1</th>\n",
       "      <td>sheom</td>\n",
       "      <td>M</td>\n",
       "      <td>{'payment_verified': True, 'identity_verified'...</td>\n",
       "      <td>We are an IT solution and service provider com...</td>\n",
       "    </tr>\n",
       "    <tr>\n",
       "      <th>2</th>\n",
       "      <td>ezbik</td>\n",
       "      <td>M</td>\n",
       "      <td>{'payment_verified': False, 'identity_verified...</td>\n",
       "      <td>System administration is my work &amp; hobby.</td>\n",
       "    </tr>\n",
       "    <tr>\n",
       "      <th>3</th>\n",
       "      <td>angelme</td>\n",
       "      <td>F</td>\n",
       "      <td>{'payment_verified': False, 'identity_verified...</td>\n",
       "      <td>Good day! Thank you for taking some time to ch...</td>\n",
       "    </tr>\n",
       "    <tr>\n",
       "      <th>4</th>\n",
       "      <td>snitch1</td>\n",
       "      <td>M</td>\n",
       "      <td>{'payment_verified': False, 'identity_verified...</td>\n",
       "      <td>I build good relation with clients and deliver...</td>\n",
       "    </tr>\n",
       "  </tbody>\n",
       "</table>\n",
       "</div>"
      ],
      "text/plain": [
       "     username gender                                             status  \\\n",
       "0  Vimal20011      M  {'payment_verified': False, 'identity_verified...   \n",
       "1       sheom      M  {'payment_verified': True, 'identity_verified'...   \n",
       "2       ezbik      M  {'payment_verified': False, 'identity_verified...   \n",
       "3     angelme      F  {'payment_verified': False, 'identity_verified...   \n",
       "4     snitch1      M  {'payment_verified': False, 'identity_verified...   \n",
       "\n",
       "                                         description  \n",
       "0  A team of 5 working on various projects relate...  \n",
       "1  We are an IT solution and service provider com...  \n",
       "2          System administration is my work & hobby.  \n",
       "3  Good day! Thank you for taking some time to ch...  \n",
       "4  I build good relation with clients and deliver...  "
      ]
     },
     "execution_count": 884,
     "metadata": {},
     "output_type": "execute_result"
    }
   ],
   "source": [
    "train.status = train['status'].apply(literal_eval)\n",
    "\n",
    "train.head()"
   ]
  },
  {
   "cell_type": "code",
   "execution_count": 885,
   "metadata": {},
   "outputs": [],
   "source": [
    "train=pd.concat([train.drop(['status'], axis=1), train['status'].apply(pd.Series)], axis=1)\n"
   ]
  },
  {
   "cell_type": "code",
   "execution_count": 886,
   "metadata": {},
   "outputs": [
    {
     "data": {
      "text/html": [
       "<div>\n",
       "<style>\n",
       "    .dataframe thead tr:only-child th {\n",
       "        text-align: right;\n",
       "    }\n",
       "\n",
       "    .dataframe thead th {\n",
       "        text-align: left;\n",
       "    }\n",
       "\n",
       "    .dataframe tbody tr th {\n",
       "        vertical-align: top;\n",
       "    }\n",
       "</style>\n",
       "<table border=\"1\" class=\"dataframe\">\n",
       "  <thead>\n",
       "    <tr style=\"text-align: right;\">\n",
       "      <th></th>\n",
       "      <th>username</th>\n",
       "      <th>gender</th>\n",
       "      <th>description</th>\n",
       "      <th>deposit_made</th>\n",
       "      <th>email_verified</th>\n",
       "      <th>facebook_connected</th>\n",
       "      <th>identity_verified</th>\n",
       "      <th>payment_verified</th>\n",
       "      <th>phone_verified</th>\n",
       "      <th>profile_complete</th>\n",
       "    </tr>\n",
       "  </thead>\n",
       "  <tbody>\n",
       "    <tr>\n",
       "      <th>0</th>\n",
       "      <td>Vimal20011</td>\n",
       "      <td>M</td>\n",
       "      <td>A team of 5 working on various projects relate...</td>\n",
       "      <td>True</td>\n",
       "      <td>True</td>\n",
       "      <td>False</td>\n",
       "      <td>False</td>\n",
       "      <td>False</td>\n",
       "      <td>False</td>\n",
       "      <td>True</td>\n",
       "    </tr>\n",
       "    <tr>\n",
       "      <th>1</th>\n",
       "      <td>sheom</td>\n",
       "      <td>M</td>\n",
       "      <td>We are an IT solution and service provider com...</td>\n",
       "      <td>True</td>\n",
       "      <td>True</td>\n",
       "      <td>True</td>\n",
       "      <td>False</td>\n",
       "      <td>True</td>\n",
       "      <td>False</td>\n",
       "      <td>True</td>\n",
       "    </tr>\n",
       "    <tr>\n",
       "      <th>2</th>\n",
       "      <td>ezbik</td>\n",
       "      <td>M</td>\n",
       "      <td>System administration is my work &amp; hobby.</td>\n",
       "      <td>False</td>\n",
       "      <td>True</td>\n",
       "      <td>False</td>\n",
       "      <td>False</td>\n",
       "      <td>False</td>\n",
       "      <td>False</td>\n",
       "      <td>True</td>\n",
       "    </tr>\n",
       "    <tr>\n",
       "      <th>3</th>\n",
       "      <td>angelme</td>\n",
       "      <td>F</td>\n",
       "      <td>Good day! Thank you for taking some time to ch...</td>\n",
       "      <td>True</td>\n",
       "      <td>True</td>\n",
       "      <td>False</td>\n",
       "      <td>False</td>\n",
       "      <td>False</td>\n",
       "      <td>True</td>\n",
       "      <td>True</td>\n",
       "    </tr>\n",
       "    <tr>\n",
       "      <th>4</th>\n",
       "      <td>snitch1</td>\n",
       "      <td>M</td>\n",
       "      <td>I build good relation with clients and deliver...</td>\n",
       "      <td>False</td>\n",
       "      <td>True</td>\n",
       "      <td>False</td>\n",
       "      <td>False</td>\n",
       "      <td>False</td>\n",
       "      <td>False</td>\n",
       "      <td>True</td>\n",
       "    </tr>\n",
       "  </tbody>\n",
       "</table>\n",
       "</div>"
      ],
      "text/plain": [
       "     username gender                                        description  \\\n",
       "0  Vimal20011      M  A team of 5 working on various projects relate...   \n",
       "1       sheom      M  We are an IT solution and service provider com...   \n",
       "2       ezbik      M          System administration is my work & hobby.   \n",
       "3     angelme      F  Good day! Thank you for taking some time to ch...   \n",
       "4     snitch1      M  I build good relation with clients and deliver...   \n",
       "\n",
       "   deposit_made  email_verified  facebook_connected  identity_verified  \\\n",
       "0          True            True               False              False   \n",
       "1          True            True                True              False   \n",
       "2         False            True               False              False   \n",
       "3          True            True               False              False   \n",
       "4         False            True               False              False   \n",
       "\n",
       "   payment_verified  phone_verified  profile_complete  \n",
       "0             False           False              True  \n",
       "1              True           False              True  \n",
       "2             False           False              True  \n",
       "3             False            True              True  \n",
       "4             False           False              True  "
      ]
     },
     "execution_count": 886,
     "metadata": {},
     "output_type": "execute_result"
    }
   ],
   "source": [
    "train.head()"
   ]
  },
  {
   "cell_type": "code",
   "execution_count": 887,
   "metadata": {},
   "outputs": [],
   "source": [
    "all_words=[]\n",
    "for i in range(0,len(train)):\n",
    "    result= preprocess(train.description[i])\n",
    "    all_words.append(result)\n"
   ]
  },
  {
   "cell_type": "code",
   "execution_count": 904,
   "metadata": {},
   "outputs": [],
   "source": [
    "import itertools\n",
    "all_words_list= list(itertools.chain.from_iterable(all_words))"
   ]
  },
  {
   "cell_type": "code",
   "execution_count": 905,
   "metadata": {},
   "outputs": [
    {
     "data": {
      "text/plain": [
       "'team'"
      ]
     },
     "execution_count": 905,
     "metadata": {},
     "output_type": "execute_result"
    }
   ],
   "source": [
    "all_words_list[0]"
   ]
  },
  {
   "cell_type": "code",
   "execution_count": 906,
   "metadata": {
    "collapsed": true
   },
   "outputs": [],
   "source": [
    "gender_f=[]\n",
    "for i in range(0,len(train)):\n",
    "    a=gender_features2(train.username[i])\n",
    "    gender_f.append(a)\n",
    "\n",
    "\n",
    "\n"
   ]
  },
  {
   "cell_type": "code",
   "execution_count": 907,
   "metadata": {
    "collapsed": true
   },
   "outputs": [],
   "source": [
    "gender_df=pd.DataFrame(gender_f)"
   ]
  },
  {
   "cell_type": "code",
   "execution_count": 908,
   "metadata": {
    "collapsed": true
   },
   "outputs": [],
   "source": [
    "username_count=gender_df['count']\n",
    "username_endswithvowel=gender_df.endswithvowel\n",
    "username_first_letter=gender_df.first_letter\n",
    "username_hasupper=gender_df.hasupper\n",
    "username_ifalphanumeric=gender_df.ifalphanumeric\n",
    "username_last_letter=gender_df.last_letter"
   ]
  },
  {
   "cell_type": "code",
   "execution_count": 910,
   "metadata": {},
   "outputs": [],
   "source": [
    "desc_words= list(zip(all_words,username_count,username_endswithvowel,username_first_letter,username_hasupper,username_ifalphanumeric,username_last_letter,train.deposit_made,train.email_verified,train.facebook_connected,\n",
    "train.identity_verified,train.payment_verified,train.phone_verified,train.profile_complete,train.gender))"
   ]
  },
  {
   "cell_type": "code",
   "execution_count": 911,
   "metadata": {},
   "outputs": [
    {
     "data": {
      "text/html": [
       "<div>\n",
       "<style>\n",
       "    .dataframe thead tr:only-child th {\n",
       "        text-align: right;\n",
       "    }\n",
       "\n",
       "    .dataframe thead th {\n",
       "        text-align: left;\n",
       "    }\n",
       "\n",
       "    .dataframe tbody tr th {\n",
       "        vertical-align: top;\n",
       "    }\n",
       "</style>\n",
       "<table border=\"1\" class=\"dataframe\">\n",
       "  <thead>\n",
       "    <tr style=\"text-align: right;\">\n",
       "      <th></th>\n",
       "      <th>0</th>\n",
       "      <th>1</th>\n",
       "      <th>2</th>\n",
       "      <th>3</th>\n",
       "      <th>4</th>\n",
       "      <th>5</th>\n",
       "      <th>6</th>\n",
       "      <th>7</th>\n",
       "      <th>8</th>\n",
       "      <th>9</th>\n",
       "      <th>10</th>\n",
       "      <th>11</th>\n",
       "      <th>12</th>\n",
       "      <th>13</th>\n",
       "      <th>14</th>\n",
       "    </tr>\n",
       "  </thead>\n",
       "  <tbody>\n",
       "    <tr>\n",
       "      <th>0</th>\n",
       "      <td>[team, 5, work, variou, project, relat, data, ...</td>\n",
       "      <td>10</td>\n",
       "      <td>False</td>\n",
       "      <td>v</td>\n",
       "      <td>False</td>\n",
       "      <td>True</td>\n",
       "      <td>1</td>\n",
       "      <td>True</td>\n",
       "      <td>True</td>\n",
       "      <td>False</td>\n",
       "      <td>False</td>\n",
       "      <td>False</td>\n",
       "      <td>False</td>\n",
       "      <td>True</td>\n",
       "      <td>M</td>\n",
       "    </tr>\n",
       "    <tr>\n",
       "      <th>1</th>\n",
       "      <td>[solut, servic, provid, compani, expertis, e-l...</td>\n",
       "      <td>5</td>\n",
       "      <td>False</td>\n",
       "      <td>s</td>\n",
       "      <td>False</td>\n",
       "      <td>True</td>\n",
       "      <td>m</td>\n",
       "      <td>True</td>\n",
       "      <td>True</td>\n",
       "      <td>True</td>\n",
       "      <td>False</td>\n",
       "      <td>True</td>\n",
       "      <td>False</td>\n",
       "      <td>True</td>\n",
       "      <td>M</td>\n",
       "    </tr>\n",
       "    <tr>\n",
       "      <th>2</th>\n",
       "      <td>[system, administr, work, hobbi]</td>\n",
       "      <td>5</td>\n",
       "      <td>False</td>\n",
       "      <td>e</td>\n",
       "      <td>False</td>\n",
       "      <td>True</td>\n",
       "      <td>k</td>\n",
       "      <td>False</td>\n",
       "      <td>True</td>\n",
       "      <td>False</td>\n",
       "      <td>False</td>\n",
       "      <td>False</td>\n",
       "      <td>False</td>\n",
       "      <td>True</td>\n",
       "      <td>M</td>\n",
       "    </tr>\n",
       "    <tr>\n",
       "      <th>3</th>\n",
       "      <td>[good, day, thank, take, time, check, profil, ...</td>\n",
       "      <td>7</td>\n",
       "      <td>True</td>\n",
       "      <td>a</td>\n",
       "      <td>False</td>\n",
       "      <td>True</td>\n",
       "      <td>e</td>\n",
       "      <td>True</td>\n",
       "      <td>True</td>\n",
       "      <td>False</td>\n",
       "      <td>False</td>\n",
       "      <td>False</td>\n",
       "      <td>True</td>\n",
       "      <td>True</td>\n",
       "      <td>F</td>\n",
       "    </tr>\n",
       "    <tr>\n",
       "      <th>4</th>\n",
       "      <td>[build, good, relat, client, deliv, high, qual...</td>\n",
       "      <td>7</td>\n",
       "      <td>False</td>\n",
       "      <td>s</td>\n",
       "      <td>False</td>\n",
       "      <td>True</td>\n",
       "      <td>1</td>\n",
       "      <td>False</td>\n",
       "      <td>True</td>\n",
       "      <td>False</td>\n",
       "      <td>False</td>\n",
       "      <td>False</td>\n",
       "      <td>False</td>\n",
       "      <td>True</td>\n",
       "      <td>M</td>\n",
       "    </tr>\n",
       "  </tbody>\n",
       "</table>\n",
       "</div>"
      ],
      "text/plain": [
       "                                                  0   1      2  3      4   \\\n",
       "0  [team, 5, work, variou, project, relat, data, ...  10  False  v  False   \n",
       "1  [solut, servic, provid, compani, expertis, e-l...   5  False  s  False   \n",
       "2                   [system, administr, work, hobbi]   5  False  e  False   \n",
       "3  [good, day, thank, take, time, check, profil, ...   7   True  a  False   \n",
       "4  [build, good, relat, client, deliv, high, qual...   7  False  s  False   \n",
       "\n",
       "     5  6      7     8      9      10     11     12    13 14  \n",
       "0  True  1   True  True  False  False  False  False  True  M  \n",
       "1  True  m   True  True   True  False   True  False  True  M  \n",
       "2  True  k  False  True  False  False  False  False  True  M  \n",
       "3  True  e   True  True  False  False  False   True  True  F  \n",
       "4  True  1  False  True  False  False  False  False  True  M  "
      ]
     },
     "execution_count": 911,
     "metadata": {},
     "output_type": "execute_result"
    }
   ],
   "source": [
    "desc_df=pd.DataFrame(desc_words)\n",
    "desc_df.head()"
   ]
  },
  {
   "cell_type": "code",
   "execution_count": 912,
   "metadata": {},
   "outputs": [],
   "source": [
    "words_freq = nltk.FreqDist(all_words_list)"
   ]
  },
  {
   "cell_type": "code",
   "execution_count": 913,
   "metadata": {},
   "outputs": [
    {
     "name": "stdout",
     "output_type": "stream",
     "text": [
      "Before: 36128 , after: 9953\n"
     ]
    }
   ],
   "source": [
    "selected_words = [word for word, freq in words_freq.items() if freq>1]\n",
    "print('Before:',len(words_freq), ', after:', len(selected_words))"
   ]
  },
  {
   "cell_type": "code",
   "execution_count": 914,
   "metadata": {},
   "outputs": [],
   "source": [
    "def extract_features_all(words, selected_words,a,b,c,d,e,f,g,h,i,j,k,l,m):\n",
    "    ''' simply using words counts'''\n",
    "    feature={}\n",
    "    fdist= nltk.FreqDist([w for w in words if w in selected_words])\n",
    "    feature['username_count']=a\n",
    "    feature['endswithvowel']=b\n",
    "    feature['first_letter']=c\n",
    "    feature['hasupper']=d\n",
    "    feature['ifalphanumeric']=e\n",
    "    feature['last_letter']=f\n",
    "    feature['deposit_made']=g\n",
    "    feature['email_verified']=h\n",
    "    feature['facebook_connected']=i\n",
    "    feature['identity_verified']=j\n",
    "    feature['payment_verified']=k\n",
    "    feature['phone_verified']=l\n",
    "    feature['profile_complete']=m\n",
    "    \n",
    "    feature1=fdist\n",
    "    x=feature.update(feature1)\n",
    "    return feature\n",
    "\n"
   ]
  },
  {
   "cell_type": "code",
   "execution_count": 916,
   "metadata": {},
   "outputs": [],
   "source": [
    "feat_all = [(extract_features_all(words,selected_words, a,b,c,d,e,f,g,h,i,j,k,l,m),gender) for (words,a,b,c,d,e,f,g,h,i,j,k,l,m,gender) in desc_words]\n"
   ]
  },
  {
   "cell_type": "code",
   "execution_count": 917,
   "metadata": {},
   "outputs": [
    {
     "data": {
      "text/plain": [
       "({'administr': 1,\n",
       "  'deposit_made': False,\n",
       "  'email_verified': True,\n",
       "  'endswithvowel': False,\n",
       "  'facebook_connected': False,\n",
       "  'first_letter': 'e',\n",
       "  'hasupper': False,\n",
       "  'hobbi': 1,\n",
       "  'identity_verified': False,\n",
       "  'ifalphanumeric': True,\n",
       "  'last_letter': 'k',\n",
       "  'payment_verified': False,\n",
       "  'phone_verified': False,\n",
       "  'profile_complete': True,\n",
       "  'system': 1,\n",
       "  'username_count': 5,\n",
       "  'work': 1},\n",
       " 'M')"
      ]
     },
     "execution_count": 917,
     "metadata": {},
     "output_type": "execute_result"
    }
   ],
   "source": [
    "feat_all[2]\n"
   ]
  },
  {
   "cell_type": "code",
   "execution_count": 950,
   "metadata": {},
   "outputs": [
    {
     "name": "stdout",
     "output_type": "stream",
     "text": [
      "accuracy: 0.5616\n",
      "accuracy: 0.5912\n",
      "accuracy: 0.588\n",
      "accuracy: 0.5608\n",
      "accuracy: 0.5708566853482786\n",
      "CV mean accuracy: 0.57449133707\n"
     ]
    }
   ],
   "source": [
    "from sklearn.model_selection import KFold\n",
    "import numpy as np\n",
    "k_fold = KFold(n_splits=5, shuffle=True)\n",
    "accu = []\n",
    "for train_idx, test_idx in k_fold.split(feat_all):\n",
    "    train_3= [feat_all[i] for i in train_idx]\n",
    "    test_3 = [feat_all[i] for i in test_idx]\n",
    "    classifier3_nb = nltk.NaiveBayesClassifier.train(train_3)   \n",
    "    accu.append( nltk.classify.util.accuracy(classifier3_nb, test_3) )\n",
    "    print('accuracy:', accu[len(accu)-1])    \n",
    "print('CV mean accuracy:', np.mean(accu))    "
   ]
  },
  {
   "cell_type": "code",
   "execution_count": 959,
   "metadata": {},
   "outputs": [
    {
     "name": "stdout",
     "output_type": "stream",
     "text": [
      "accuracy: 0.7312\n",
      "accuracy: 0.7168\n",
      "accuracy: 0.7328\n",
      "accuracy: 0.736\n",
      "accuracy: 0.7493995196156925\n",
      "CV mean accuracy: 0.733239903923\n"
     ]
    }
   ],
   "source": [
    "from nltk.classify import SklearnClassifier\n",
    "from sklearn.svm import SVC\n",
    "k_fold = KFold(n_splits=5, shuffle=True)\n",
    "accu = []\n",
    "for train_idx, test_idx in k_fold.split(feat_all):\n",
    "    train_3 = [feat_all[i] for i in train_idx]\n",
    "    test_3 = [feat_all[i] for i in test_idx]\n",
    "    classifier3_sk = SklearnClassifier(SVC(kernel='linear', C=10, random_state=1), sparse=True).train(train_3)       \n",
    "    accu.append( nltk.classify.util.accuracy(classifier3_sk, test_3) )\n",
    "    print('accuracy:', accu[len(accu)-1])    \n",
    "print('CV mean accuracy:', np.mean(accu)) "
   ]
  },
  {
   "cell_type": "code",
   "execution_count": 955,
   "metadata": {},
   "outputs": [
    {
     "name": "stdout",
     "output_type": "stream",
     "text": [
      "  ==> Training (1 iterations)\n",
      "\n",
      "      Iteration    Log Likelihood    Accuracy\n",
      "      ---------------------------------------\n",
      "             1          -0.69315        0.811\n",
      "      Training stopped: keyboard interrupt\n",
      "         Final          -0.69315        0.811\n",
      "accuracy: 0.8192\n",
      "  ==> Training (1 iterations)\n",
      "\n",
      "      Iteration    Log Likelihood    Accuracy\n",
      "      ---------------------------------------\n",
      "             1          -0.69315        0.815\n",
      "         Final          -0.29113        0.816\n",
      "accuracy: 0.804\n",
      "  ==> Training (1 iterations)\n",
      "\n",
      "      Iteration    Log Likelihood    Accuracy\n",
      "      ---------------------------------------\n",
      "             1          -0.69315        0.816\n",
      "         Final          -0.24521        0.816\n",
      "accuracy: 0.8024\n",
      "  ==> Training (1 iterations)\n",
      "\n",
      "      Iteration    Log Likelihood    Accuracy\n",
      "      ---------------------------------------\n",
      "             1          -0.69315        0.814\n",
      "         Final          -0.29265        0.815\n",
      "accuracy: 0.8088\n",
      "  ==> Training (1 iterations)\n",
      "\n",
      "      Iteration    Log Likelihood    Accuracy\n",
      "      ---------------------------------------\n",
      "             1          -0.69315        0.809\n",
      "      Training stopped: keyboard interrupt\n",
      "         Final          -0.69315        0.809\n",
      "accuracy: 0.8302642113690952\n",
      "CV mean accuracy: 0.812932842274\n"
     ]
    }
   ],
   "source": [
    "k_fold = KFold(n_splits=5, shuffle=True)\n",
    "accu = []\n",
    "for train_idx, test_idx in k_fold.split(feat_all):\n",
    "    train_3 = [feat_all[i] for i in train_idx]\n",
    "    test_3 = [feat_all[i] for i in test_idx]\n",
    "    classifier3_me = nltk.classify.MaxentClassifier.train(train_3, trace=3, max_iter=1)       \n",
    "    accu.append( nltk.classify.util.accuracy(classifier3_me, test_3) )\n",
    "    print('accuracy:', accu[len(accu)-1])    \n",
    "print('CV mean accuracy:', np.mean(accu)) "
   ]
  },
  {
   "cell_type": "markdown",
   "metadata": {},
   "source": [
    "# Gender prediction with username, status and description for test data\n"
   ]
  },
  {
   "cell_type": "code",
   "execution_count": 931,
   "metadata": {},
   "outputs": [],
   "source": [
    "test = pd.read_csv('test.csv')\n",
    "\n",
    "from ast import literal_eval\n",
    "#status = test['status'].apply(literal_eval)\n"
   ]
  },
  {
   "cell_type": "code",
   "execution_count": 932,
   "metadata": {},
   "outputs": [
    {
     "data": {
      "text/html": [
       "<div>\n",
       "<style>\n",
       "    .dataframe thead tr:only-child th {\n",
       "        text-align: right;\n",
       "    }\n",
       "\n",
       "    .dataframe thead th {\n",
       "        text-align: left;\n",
       "    }\n",
       "\n",
       "    .dataframe tbody tr th {\n",
       "        vertical-align: top;\n",
       "    }\n",
       "</style>\n",
       "<table border=\"1\" class=\"dataframe\">\n",
       "  <thead>\n",
       "    <tr style=\"text-align: right;\">\n",
       "      <th></th>\n",
       "      <th>username</th>\n",
       "      <th>status</th>\n",
       "      <th>description</th>\n",
       "    </tr>\n",
       "  </thead>\n",
       "  <tbody>\n",
       "    <tr>\n",
       "      <th>0</th>\n",
       "      <td>nazrulmadina</td>\n",
       "      <td>{'payment_verified': False, 'identity_verified...</td>\n",
       "      <td>I am one of Self-employed person having more t...</td>\n",
       "    </tr>\n",
       "    <tr>\n",
       "      <th>1</th>\n",
       "      <td>SehrishWarraich</td>\n",
       "      <td>{'payment_verified': False, 'identity_verified...</td>\n",
       "      <td>i am sehrish warraich.I do my job sincerelly a...</td>\n",
       "    </tr>\n",
       "    <tr>\n",
       "      <th>2</th>\n",
       "      <td>samadhinie</td>\n",
       "      <td>{'payment_verified': False, 'identity_verified...</td>\n",
       "      <td>Since 2006, Web based solution provider (Web e...</td>\n",
       "    </tr>\n",
       "    <tr>\n",
       "      <th>3</th>\n",
       "      <td>ebottabi</td>\n",
       "      <td>{'payment_verified': False, 'identity_verified...</td>\n",
       "      <td>Founder of  a geolocation service developed on...</td>\n",
       "    </tr>\n",
       "    <tr>\n",
       "      <th>4</th>\n",
       "      <td>mrjimoy</td>\n",
       "      <td>{'payment_verified': False, 'identity_verified...</td>\n",
       "      <td>Me? I am Jimmy, meaning honest, courageous, or...</td>\n",
       "    </tr>\n",
       "  </tbody>\n",
       "</table>\n",
       "</div>"
      ],
      "text/plain": [
       "          username                                             status  \\\n",
       "0     nazrulmadina  {'payment_verified': False, 'identity_verified...   \n",
       "1  SehrishWarraich  {'payment_verified': False, 'identity_verified...   \n",
       "2       samadhinie  {'payment_verified': False, 'identity_verified...   \n",
       "3         ebottabi  {'payment_verified': False, 'identity_verified...   \n",
       "4          mrjimoy  {'payment_verified': False, 'identity_verified...   \n",
       "\n",
       "                                         description  \n",
       "0  I am one of Self-employed person having more t...  \n",
       "1  i am sehrish warraich.I do my job sincerelly a...  \n",
       "2  Since 2006, Web based solution provider (Web e...  \n",
       "3  Founder of  a geolocation service developed on...  \n",
       "4  Me? I am Jimmy, meaning honest, courageous, or...  "
      ]
     },
     "execution_count": 932,
     "metadata": {},
     "output_type": "execute_result"
    }
   ],
   "source": [
    "test.status = test['status'].apply(literal_eval)\n",
    "test.head()\n",
    "\n"
   ]
  },
  {
   "cell_type": "code",
   "execution_count": 933,
   "metadata": {},
   "outputs": [
    {
     "data": {
      "text/html": [
       "<div>\n",
       "<style>\n",
       "    .dataframe thead tr:only-child th {\n",
       "        text-align: right;\n",
       "    }\n",
       "\n",
       "    .dataframe thead th {\n",
       "        text-align: left;\n",
       "    }\n",
       "\n",
       "    .dataframe tbody tr th {\n",
       "        vertical-align: top;\n",
       "    }\n",
       "</style>\n",
       "<table border=\"1\" class=\"dataframe\">\n",
       "  <thead>\n",
       "    <tr style=\"text-align: right;\">\n",
       "      <th></th>\n",
       "      <th>username</th>\n",
       "      <th>description</th>\n",
       "      <th>deposit_made</th>\n",
       "      <th>email_verified</th>\n",
       "      <th>facebook_connected</th>\n",
       "      <th>identity_verified</th>\n",
       "      <th>payment_verified</th>\n",
       "      <th>phone_verified</th>\n",
       "      <th>profile_complete</th>\n",
       "    </tr>\n",
       "  </thead>\n",
       "  <tbody>\n",
       "    <tr>\n",
       "      <th>0</th>\n",
       "      <td>nazrulmadina</td>\n",
       "      <td>I am one of Self-employed person having more t...</td>\n",
       "      <td>False</td>\n",
       "      <td>True</td>\n",
       "      <td>False</td>\n",
       "      <td>False</td>\n",
       "      <td>False</td>\n",
       "      <td>False</td>\n",
       "      <td>True</td>\n",
       "    </tr>\n",
       "    <tr>\n",
       "      <th>1</th>\n",
       "      <td>SehrishWarraich</td>\n",
       "      <td>i am sehrish warraich.I do my job sincerelly a...</td>\n",
       "      <td>False</td>\n",
       "      <td>True</td>\n",
       "      <td>True</td>\n",
       "      <td>False</td>\n",
       "      <td>False</td>\n",
       "      <td>False</td>\n",
       "      <td>True</td>\n",
       "    </tr>\n",
       "    <tr>\n",
       "      <th>2</th>\n",
       "      <td>samadhinie</td>\n",
       "      <td>Since 2006, Web based solution provider (Web e...</td>\n",
       "      <td>False</td>\n",
       "      <td>True</td>\n",
       "      <td>True</td>\n",
       "      <td>False</td>\n",
       "      <td>False</td>\n",
       "      <td>False</td>\n",
       "      <td>True</td>\n",
       "    </tr>\n",
       "    <tr>\n",
       "      <th>3</th>\n",
       "      <td>ebottabi</td>\n",
       "      <td>Founder of  a geolocation service developed on...</td>\n",
       "      <td>False</td>\n",
       "      <td>True</td>\n",
       "      <td>False</td>\n",
       "      <td>False</td>\n",
       "      <td>False</td>\n",
       "      <td>False</td>\n",
       "      <td>True</td>\n",
       "    </tr>\n",
       "    <tr>\n",
       "      <th>4</th>\n",
       "      <td>mrjimoy</td>\n",
       "      <td>Me? I am Jimmy, meaning honest, courageous, or...</td>\n",
       "      <td>False</td>\n",
       "      <td>True</td>\n",
       "      <td>True</td>\n",
       "      <td>False</td>\n",
       "      <td>False</td>\n",
       "      <td>True</td>\n",
       "      <td>True</td>\n",
       "    </tr>\n",
       "  </tbody>\n",
       "</table>\n",
       "</div>"
      ],
      "text/plain": [
       "          username                                        description  \\\n",
       "0     nazrulmadina  I am one of Self-employed person having more t...   \n",
       "1  SehrishWarraich  i am sehrish warraich.I do my job sincerelly a...   \n",
       "2       samadhinie  Since 2006, Web based solution provider (Web e...   \n",
       "3         ebottabi  Founder of  a geolocation service developed on...   \n",
       "4          mrjimoy  Me? I am Jimmy, meaning honest, courageous, or...   \n",
       "\n",
       "   deposit_made  email_verified  facebook_connected  identity_verified  \\\n",
       "0         False            True               False              False   \n",
       "1         False            True                True              False   \n",
       "2         False            True                True              False   \n",
       "3         False            True               False              False   \n",
       "4         False            True                True              False   \n",
       "\n",
       "   payment_verified  phone_verified  profile_complete  \n",
       "0             False           False              True  \n",
       "1             False           False              True  \n",
       "2             False           False              True  \n",
       "3             False           False              True  \n",
       "4             False            True              True  "
      ]
     },
     "execution_count": 933,
     "metadata": {},
     "output_type": "execute_result"
    }
   ],
   "source": [
    "test=pd.concat([test.drop(['status'], axis=1), test['status'].apply(pd.Series)], axis=1)\n",
    "\n",
    "test.head()\n"
   ]
  },
  {
   "cell_type": "code",
   "execution_count": 934,
   "metadata": {
    "collapsed": true
   },
   "outputs": [],
   "source": [
    "all_words=[]\n",
    "for i in range(0,len(test)):\n",
    "    result= preprocess(test.description[i])\n",
    "    all_words.append(result)"
   ]
  },
  {
   "cell_type": "code",
   "execution_count": 935,
   "metadata": {
    "collapsed": true
   },
   "outputs": [],
   "source": [
    "import itertools\n",
    "all_words_list= list(itertools.chain.from_iterable(all_words))"
   ]
  },
  {
   "cell_type": "code",
   "execution_count": 936,
   "metadata": {},
   "outputs": [
    {
     "data": {
      "text/plain": [
       "'one'"
      ]
     },
     "execution_count": 936,
     "metadata": {},
     "output_type": "execute_result"
    }
   ],
   "source": [
    "all_words_list[0]"
   ]
  },
  {
   "cell_type": "code",
   "execution_count": 937,
   "metadata": {
    "collapsed": true
   },
   "outputs": [],
   "source": [
    "gender_f_test=[]\n",
    "for i in range(0,len(test)):\n",
    "    a=gender_features2(test.username[i])\n",
    "    gender_f_test.append(a)"
   ]
  },
  {
   "cell_type": "code",
   "execution_count": 938,
   "metadata": {
    "collapsed": true
   },
   "outputs": [],
   "source": [
    "gender_df_test=pd.DataFrame(gender_f_test)"
   ]
  },
  {
   "cell_type": "code",
   "execution_count": 939,
   "metadata": {
    "collapsed": true
   },
   "outputs": [],
   "source": [
    "usernamet_count=gender_df_test['count']\n",
    "usernamet_endswithvowel=gender_df_test.endswithvowel\n",
    "usernamet_first_letter=gender_df_test.first_letter\n",
    "usernamet_hasupper=gender_df_test.hasupper\n",
    "usernamet_ifalphanumeric=gender_df_test.ifalphanumeric\n",
    "usernamet_last_letter=gender_df_test.last_letter\n"
   ]
  },
  {
   "cell_type": "code",
   "execution_count": 940,
   "metadata": {
    "collapsed": true
   },
   "outputs": [],
   "source": [
    "desct_words= list(zip(all_words,usernamet_count,usernamet_endswithvowel,usernamet_first_letter,usernamet_hasupper,usernamet_ifalphanumeric,usernamet_last_letter,test.deposit_made,test.email_verified,test.facebook_connected,\n",
    "test.identity_verified,test.payment_verified,test.phone_verified,test.profile_complete))"
   ]
  },
  {
   "cell_type": "code",
   "execution_count": 941,
   "metadata": {},
   "outputs": [
    {
     "data": {
      "text/html": [
       "<div>\n",
       "<style>\n",
       "    .dataframe thead tr:only-child th {\n",
       "        text-align: right;\n",
       "    }\n",
       "\n",
       "    .dataframe thead th {\n",
       "        text-align: left;\n",
       "    }\n",
       "\n",
       "    .dataframe tbody tr th {\n",
       "        vertical-align: top;\n",
       "    }\n",
       "</style>\n",
       "<table border=\"1\" class=\"dataframe\">\n",
       "  <thead>\n",
       "    <tr style=\"text-align: right;\">\n",
       "      <th></th>\n",
       "      <th>0</th>\n",
       "      <th>1</th>\n",
       "      <th>2</th>\n",
       "      <th>3</th>\n",
       "      <th>4</th>\n",
       "      <th>5</th>\n",
       "      <th>6</th>\n",
       "      <th>7</th>\n",
       "      <th>8</th>\n",
       "      <th>9</th>\n",
       "      <th>10</th>\n",
       "      <th>11</th>\n",
       "      <th>12</th>\n",
       "      <th>13</th>\n",
       "    </tr>\n",
       "  </thead>\n",
       "  <tbody>\n",
       "    <tr>\n",
       "      <th>0</th>\n",
       "      <td>[one, self-employ, person, 16, year, experi, c...</td>\n",
       "      <td>12</td>\n",
       "      <td>True</td>\n",
       "      <td>n</td>\n",
       "      <td>False</td>\n",
       "      <td>True</td>\n",
       "      <td>a</td>\n",
       "      <td>False</td>\n",
       "      <td>True</td>\n",
       "      <td>False</td>\n",
       "      <td>False</td>\n",
       "      <td>False</td>\n",
       "      <td>False</td>\n",
       "      <td>True</td>\n",
       "    </tr>\n",
       "    <tr>\n",
       "      <th>1</th>\n",
       "      <td>[sehrish, warraich.i, job, sincerelli, submit,...</td>\n",
       "      <td>15</td>\n",
       "      <td>False</td>\n",
       "      <td>s</td>\n",
       "      <td>False</td>\n",
       "      <td>True</td>\n",
       "      <td>h</td>\n",
       "      <td>False</td>\n",
       "      <td>True</td>\n",
       "      <td>True</td>\n",
       "      <td>False</td>\n",
       "      <td>False</td>\n",
       "      <td>False</td>\n",
       "      <td>True</td>\n",
       "    </tr>\n",
       "    <tr>\n",
       "      <th>2</th>\n",
       "      <td>[sinc, 2006, web, base, solut, provid, web, en...</td>\n",
       "      <td>10</td>\n",
       "      <td>True</td>\n",
       "      <td>s</td>\n",
       "      <td>False</td>\n",
       "      <td>True</td>\n",
       "      <td>e</td>\n",
       "      <td>False</td>\n",
       "      <td>True</td>\n",
       "      <td>True</td>\n",
       "      <td>False</td>\n",
       "      <td>False</td>\n",
       "      <td>False</td>\n",
       "      <td>True</td>\n",
       "    </tr>\n",
       "    <tr>\n",
       "      <th>3</th>\n",
       "      <td>[founder, geoloc, servic, develop, redi, djang...</td>\n",
       "      <td>8</td>\n",
       "      <td>True</td>\n",
       "      <td>e</td>\n",
       "      <td>False</td>\n",
       "      <td>True</td>\n",
       "      <td>i</td>\n",
       "      <td>False</td>\n",
       "      <td>True</td>\n",
       "      <td>False</td>\n",
       "      <td>False</td>\n",
       "      <td>False</td>\n",
       "      <td>False</td>\n",
       "      <td>True</td>\n",
       "    </tr>\n",
       "    <tr>\n",
       "      <th>4</th>\n",
       "      <td>[jimmi, mean, honest, courag, origin, full, hi...</td>\n",
       "      <td>7</td>\n",
       "      <td>False</td>\n",
       "      <td>m</td>\n",
       "      <td>False</td>\n",
       "      <td>True</td>\n",
       "      <td>y</td>\n",
       "      <td>False</td>\n",
       "      <td>True</td>\n",
       "      <td>True</td>\n",
       "      <td>False</td>\n",
       "      <td>False</td>\n",
       "      <td>True</td>\n",
       "      <td>True</td>\n",
       "    </tr>\n",
       "  </tbody>\n",
       "</table>\n",
       "</div>"
      ],
      "text/plain": [
       "                                                  0   1      2  3      4   \\\n",
       "0  [one, self-employ, person, 16, year, experi, c...  12   True  n  False   \n",
       "1  [sehrish, warraich.i, job, sincerelli, submit,...  15  False  s  False   \n",
       "2  [sinc, 2006, web, base, solut, provid, web, en...  10   True  s  False   \n",
       "3  [founder, geoloc, servic, develop, redi, djang...   8   True  e  False   \n",
       "4  [jimmi, mean, honest, courag, origin, full, hi...   7  False  m  False   \n",
       "\n",
       "     5  6      7     8      9      10     11     12    13  \n",
       "0  True  a  False  True  False  False  False  False  True  \n",
       "1  True  h  False  True   True  False  False  False  True  \n",
       "2  True  e  False  True   True  False  False  False  True  \n",
       "3  True  i  False  True  False  False  False  False  True  \n",
       "4  True  y  False  True   True  False  False   True  True  "
      ]
     },
     "execution_count": 941,
     "metadata": {},
     "output_type": "execute_result"
    }
   ],
   "source": [
    "desc_df_t=pd.DataFrame(desct_words)\n",
    "desc_df_t.head()"
   ]
  },
  {
   "cell_type": "code",
   "execution_count": 942,
   "metadata": {
    "collapsed": true
   },
   "outputs": [],
   "source": [
    "words_freqt = nltk.FreqDist(all_words_list)"
   ]
  },
  {
   "cell_type": "code",
   "execution_count": 943,
   "metadata": {},
   "outputs": [
    {
     "name": "stdout",
     "output_type": "stream",
     "text": [
      "Before: 20142 , after: 5820\n"
     ]
    }
   ],
   "source": [
    "\n",
    "selected_wordst = [word for word, freq in words_freqt.items() if freq>1]\n",
    "print('Before:',len(words_freqt), ', after:', len(selected_wordst))\n"
   ]
  },
  {
   "cell_type": "code",
   "execution_count": 944,
   "metadata": {
    "collapsed": true
   },
   "outputs": [],
   "source": [
    "feat_all_test = [(extract_features_all(words,selected_words, a,b,c,d,e,f,g,h,i,j,k,l,m)) for (words,a,b,c,d,e,f,g,h,i,j,k,l,m) in desct_words]\n"
   ]
  },
  {
   "cell_type": "code",
   "execution_count": 945,
   "metadata": {},
   "outputs": [
    {
     "data": {
      "text/plain": [
       "{'better': 2,\n",
       " 'data': 1,\n",
       " 'deposit_made': False,\n",
       " 'email_verified': True,\n",
       " 'endswithvowel': False,\n",
       " 'entri': 1,\n",
       " 'experienc': 1,\n",
       " 'facebook_connected': True,\n",
       " 'first_letter': 's',\n",
       " 'hasupper': False,\n",
       " 'identity_verified': False,\n",
       " 'ifalphanumeric': True,\n",
       " 'job': 2,\n",
       " 'last_letter': 'h',\n",
       " 'mission': 1,\n",
       " 'next': 1,\n",
       " 'payment_verified': False,\n",
       " 'phone_verified': False,\n",
       " 'previou': 1,\n",
       " 'profile_complete': True,\n",
       " 'submit': 1,\n",
       " 'time': 1,\n",
       " 'username_count': 15}"
      ]
     },
     "execution_count": 945,
     "metadata": {},
     "output_type": "execute_result"
    }
   ],
   "source": [
    "feat_all_test[1]"
   ]
  },
  {
   "cell_type": "code",
   "execution_count": 958,
   "metadata": {
    "collapsed": true
   },
   "outputs": [],
   "source": [
    "pred3 = [classifier3_sk.classify(row) for row in feat_all_test]\n"
   ]
  },
  {
   "cell_type": "code",
   "execution_count": 960,
   "metadata": {
    "collapsed": true
   },
   "outputs": [],
   "source": [
    "zz3 = pd.DataFrame({'username':test['username'], 'prediction':pred3})\n",
    "zz3.to_csv('pred3_uname.csv', index=False)"
   ]
  },
  {
   "cell_type": "code",
   "execution_count": 948,
   "metadata": {
    "collapsed": true
   },
   "outputs": [],
   "source": [
    "pred4=[classifier3_me.classify(row) for row in feat_all_test]\n"
   ]
  },
  {
   "cell_type": "code",
   "execution_count": 949,
   "metadata": {
    "collapsed": true
   },
   "outputs": [],
   "source": [
    "zz4 = pd.DataFrame({'username':test['username'], 'prediction':pred4})\n",
    "zz4.to_csv('pred4_uname.csv', index=False)"
   ]
  },
  {
   "cell_type": "markdown",
   "metadata": {},
   "source": [
    "### Extra Credit: Try Different Features and Models for Best Performance\n",
    "Save your predictions as netid_1.csv, ..., netid_5.csv"
   ]
  },
  {
   "cell_type": "code",
   "execution_count": null,
   "metadata": {
    "collapsed": true
   },
   "outputs": [],
   "source": [
    "In the first question, I extracted gender_features like if the username is alphanumeric, has a vowel, if it is in lower case\n",
    "or not and few other features like first and last letter. \n",
    "\n",
    "The important features are first, last and count for the Naive bayes model and gave a model accuracy of 0.8104\n",
    "\n",
    "In the second question, I extracted features based on description after stemming and splitting the description into set \n",
    "of words and also calculated the count of words occurence to train the model\n",
    "\n",
    "Maximum Entropy and Linear Support Vector Machine model gave a model accuracy of 0.800 and 0.7399\n",
    "\n",
    "In the third question, I included status features along with description and gender features and the maximum entropy and \n",
    "linear support vector machine gave 0.833 and 0.733\n",
    "\n",
    "\n",
    "\n",
    "\n"
   ]
  },
  {
   "cell_type": "code",
   "execution_count": null,
   "metadata": {
    "collapsed": true
   },
   "outputs": [],
   "source": []
  }
 ],
 "metadata": {
  "kernelspec": {
   "display_name": "Python 3",
   "language": "python",
   "name": "python3"
  },
  "language_info": {
   "codemirror_mode": {
    "name": "ipython",
    "version": 3
   },
   "file_extension": ".py",
   "mimetype": "text/x-python",
   "name": "python",
   "nbconvert_exporter": "python",
   "pygments_lexer": "ipython3",
   "version": "3.6.1"
  }
 },
 "nbformat": 4,
 "nbformat_minor": 2
}
